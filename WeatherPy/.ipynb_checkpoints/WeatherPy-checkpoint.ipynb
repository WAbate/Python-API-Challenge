{
 "cells": [
  {
   "cell_type": "code",
   "execution_count": 1,
   "id": "52b287bc",
   "metadata": {},
   "outputs": [
    {
     "ename": "ModuleNotFoundError",
     "evalue": "No module named 'citipy'",
     "output_type": "error",
     "traceback": [
      "\u001b[0;31m---------------------------------------------------------------------------\u001b[0m",
      "\u001b[0;31mModuleNotFoundError\u001b[0m                       Traceback (most recent call last)",
      "\u001b[0;32m/var/folders/4x/fb2zx6qs6g1br4cht977pqsr0000gn/T/ipykernel_60550/1961608274.py\u001b[0m in \u001b[0;36m<module>\u001b[0;34m\u001b[0m\n\u001b[1;32m     10\u001b[0m \u001b[0;34m\u001b[0m\u001b[0m\n\u001b[1;32m     11\u001b[0m \u001b[0;31m# Incorporated citipy to determine city based on latitude and longitude\u001b[0m\u001b[0;34m\u001b[0m\u001b[0;34m\u001b[0m\u001b[0m\n\u001b[0;32m---> 12\u001b[0;31m \u001b[0;32mfrom\u001b[0m \u001b[0mcitipy\u001b[0m \u001b[0;32mimport\u001b[0m \u001b[0mcitipy\u001b[0m\u001b[0;34m\u001b[0m\u001b[0;34m\u001b[0m\u001b[0m\n\u001b[0m\u001b[1;32m     13\u001b[0m \u001b[0;34m\u001b[0m\u001b[0m\n\u001b[1;32m     14\u001b[0m \u001b[0;31m#import API keys\u001b[0m\u001b[0;34m\u001b[0m\u001b[0;34m\u001b[0m\u001b[0m\n",
      "\u001b[0;31mModuleNotFoundError\u001b[0m: No module named 'citipy'"
     ]
    }
   ],
   "source": [
    "# Dependencies and Setup\n",
    "import matplotlib.pyplot as plt\n",
    "import pandas as pd\n",
    "import numpy as np\n",
    "import seaborn as sns\n",
    "import requests\n",
    "import time\n",
    "import urllib\n",
    "import json\n",
    "\n",
    "# Incorporated citipy to determine city based on latitude and longitude\n",
    "from citipy import citipy\n",
    "\n",
    "#import API keys\n",
    "import wkey\n",
    "\n",
    "# Range of latitudes and longitudes\n",
    "latitude_range = (-90, 90)\n",
    "longitude_range = (-180, 180)"
   ]
  },
  {
   "cell_type": "code",
   "execution_count": 2,
   "id": "ffc2b304",
   "metadata": {},
   "outputs": [
    {
     "ename": "NameError",
     "evalue": "name 'citipy' is not defined",
     "output_type": "error",
     "traceback": [
      "\u001b[0;31m---------------------------------------------------------------------------\u001b[0m",
      "\u001b[0;31mNameError\u001b[0m                                 Traceback (most recent call last)",
      "\u001b[0;32m/var/folders/4x/fb2zx6qs6g1br4cht977pqsr0000gn/T/ipykernel_60550/494996004.py\u001b[0m in \u001b[0;36m<module>\u001b[0;34m\u001b[0m\n\u001b[1;32m     10\u001b[0m \u001b[0;31m# Identify nearest city for each latitude and longitude combinations\u001b[0m\u001b[0;34m\u001b[0m\u001b[0;34m\u001b[0m\u001b[0m\n\u001b[1;32m     11\u001b[0m \u001b[0;32mfor\u001b[0m \u001b[0mlat_lng\u001b[0m \u001b[0;32min\u001b[0m \u001b[0mlatitude_longitude\u001b[0m\u001b[0;34m:\u001b[0m\u001b[0;34m\u001b[0m\u001b[0;34m\u001b[0m\u001b[0m\n\u001b[0;32m---> 12\u001b[0;31m     \u001b[0mcity\u001b[0m \u001b[0;34m=\u001b[0m \u001b[0mcitipy\u001b[0m\u001b[0;34m.\u001b[0m\u001b[0mnearest_city\u001b[0m\u001b[0;34m(\u001b[0m\u001b[0mlat_lng\u001b[0m\u001b[0;34m[\u001b[0m\u001b[0;36m0\u001b[0m\u001b[0;34m]\u001b[0m\u001b[0;34m,\u001b[0m \u001b[0mlat_lng\u001b[0m\u001b[0;34m[\u001b[0m\u001b[0;36m1\u001b[0m\u001b[0;34m]\u001b[0m\u001b[0;34m)\u001b[0m\u001b[0;34m.\u001b[0m\u001b[0mcity_name\u001b[0m\u001b[0;34m\u001b[0m\u001b[0;34m\u001b[0m\u001b[0m\n\u001b[0m\u001b[1;32m     13\u001b[0m \u001b[0;34m\u001b[0m\u001b[0m\n\u001b[1;32m     14\u001b[0m     \u001b[0;31m# If the city is unique, then add it to a our cities list\u001b[0m\u001b[0;34m\u001b[0m\u001b[0;34m\u001b[0m\u001b[0m\n",
      "\u001b[0;31mNameError\u001b[0m: name 'citipy' is not defined"
     ]
    }
   ],
   "source": [
    "# List for holding latitude, longitude and cities\n",
    "latitude_longitude = []\n",
    "cities = []\n",
    "\n",
    "# Create a set of random latitude and longitude combinations\n",
    "Latitude = np.random.uniform(low=-90.000, high=90.000, size=2000)\n",
    "Longitude = np.random.uniform(low=-180.000, high=180.000, size=2000)\n",
    "latitude_longitude = zip(Latitude, Longitude)\n",
    "\n",
    "# Identify nearest city for each latitude and longitude combinations\n",
    "for lat_lng in latitude_longitude:\n",
    "    city = citipy.nearest_city(lat_lng[0], lat_lng[1]).city_name\n",
    "    \n",
    "    # If the city is unique, then add it to a our cities list\n",
    "    if city not in cities:\n",
    "        cities.append(city)\n",
    "\n",
    "# Print the city count \n",
    "len(cities)"
   ]
  },
  {
   "cell_type": "code",
   "execution_count": 3,
   "id": "5f299150",
   "metadata": {},
   "outputs": [],
   "source": [
    "#Build URL\n",
    "url = \"http://api.openweathermap.org/data/2.5/weather?\"\n",
    "units = \"imperial\" \n",
    "wkey = \"25bc90a1196e6f153eece0bc0b0fc9eb\"\n",
    "appid = wkey\n",
    "settings = {\"units\": \"imperial\", \"appid\": wkey}\n",
    "url = f\"{url}appid={wkey}&units={units}\""
   ]
  },
  {
   "cell_type": "code",
   "execution_count": 4,
   "id": "5724aaf5",
   "metadata": {},
   "outputs": [
    {
     "data": {
      "text/plain": [
       "'http://api.openweathermap.org/data/2.5/weather?appid=25bc90a1196e6f153eece0bc0b0fc9eb&units=imperial'"
      ]
     },
     "execution_count": 4,
     "metadata": {},
     "output_type": "execute_result"
    }
   ],
   "source": [
    "url"
   ]
  },
  {
   "cell_type": "code",
   "execution_count": 5,
   "id": "893fbbdf",
   "metadata": {},
   "outputs": [
    {
     "name": "stdout",
     "output_type": "stream",
     "text": [
      "Beginning Data Retrieval     \n",
      "-----------------------------\n",
      "-----------------------------\n",
      "Data Retrieval Complete      \n",
      "-----------------------------\n"
     ]
    }
   ],
   "source": [
    "# List of city data\n",
    "city_data = []\n",
    "\n",
    "# Print to logger\n",
    "print(\"Beginning Data Retrieval     \")\n",
    "print(\"-----------------------------\")\n",
    "\n",
    "# Create counters\n",
    "record_count = 1\n",
    "set_count = 1\n",
    "\n",
    "# Loop through all the cities in our list\n",
    "for i, city in enumerate(cities):\n",
    "        \n",
    "    # Group cities in sets of 50 for logging purposes\n",
    "    if (i % 50 == 0 and i >= 50):\n",
    "        set_count += 1\n",
    "        record_count = 0\n",
    "\n",
    "    # Create endpoint URL with each city\n",
    "    city_url = url + \"&q=\" + urllib.request.pathname2url(city)\n",
    "\n",
    "    # Log the url, record, and set numbers\n",
    "    print(\"Processing Record %s of Set %s | %s\" % (record_count, set_count, city))\n",
    "    print(city_url)\n",
    "\n",
    "    # Add 1 to the record count\n",
    "    record_count += 1\n",
    "\n",
    "    # Run an API request for each of the cities\n",
    "    try:\n",
    "        # Parse the JSON and retrieve data\n",
    "        city_weather = requests.get(city_url).json()\n",
    "\n",
    "        # Parse out the max temp, humidity, and cloudiness\n",
    "        city_latitute = city_weather[\"coord\"][\"lat\"]\n",
    "        city_longitude = city_weather[\"coord\"][\"lon\"]\n",
    "        city_max_temperature = city_weather[\"main\"][\"temp_max\"]\n",
    "        city_humidity = city_weather[\"main\"][\"humidity\"]\n",
    "        city_clouds = city_weather[\"clouds\"][\"all\"]\n",
    "        city_wind = city_weather[\"wind\"][\"speed\"]\n",
    "        city_country = city_weather[\"sys\"][\"country\"]\n",
    "        city_date = city_weather[\"dt\"]\n",
    "\n",
    "        # Append the City information into city_data list\n",
    "        city_data.append({\"City\": city, \n",
    "                          \"Lat\": city_latitute, \n",
    "                          \"Lng\": city_longitude, \n",
    "                          \"Max Temp\": city_max_temperature,\n",
    "                          \"Humidity\": city_humidity,\n",
    "                          \"Cloudiness\": city_clouds,\n",
    "                          \"Wind Speed\": city_wind,\n",
    "                          \"Country\": city_country,\n",
    "                          \"Date\": city_date})\n",
    "\n",
    "    # If an error is experienced, skip the city\n",
    "    except:\n",
    "        print(\"City not found...\")\n",
    "        pass\n",
    "              \n",
    "# Indicate that Data Loading is complete \n",
    "print(\"-----------------------------\")\n",
    "print(\"Data Retrieval Complete      \")\n",
    "print(\"-----------------------------\")"
   ]
  },
  {
   "cell_type": "code",
   "execution_count": null,
   "id": "8b1a96fe",
   "metadata": {},
   "outputs": [],
   "source": []
  }
 ],
 "metadata": {
  "kernelspec": {
   "display_name": "Python 3 (ipykernel)",
   "language": "python",
   "name": "python3"
  },
  "language_info": {
   "codemirror_mode": {
    "name": "ipython",
    "version": 3
   },
   "file_extension": ".py",
   "mimetype": "text/x-python",
   "name": "python",
   "nbconvert_exporter": "python",
   "pygments_lexer": "ipython3",
   "version": "3.9.7"
  }
 },
 "nbformat": 4,
 "nbformat_minor": 5
}
